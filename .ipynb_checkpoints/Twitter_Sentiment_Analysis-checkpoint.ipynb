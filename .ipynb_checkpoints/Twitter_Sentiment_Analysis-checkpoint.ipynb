{
 "cells": [
  {
   "cell_type": "code",
   "execution_count": 1,
   "metadata": {},
   "outputs": [
    {
     "name": "stdout",
     "output_type": "stream",
     "text": [
      "Collecting tweepy\n",
      "  Downloading https://files.pythonhosted.org/packages/05/f1/2e8c7b202dd04117a378ac0c55cc7dafa80280ebd7f692f1fa8f27fd6288/tweepy-3.6.0-py2.py3-none-any.whl\n",
      "Requirement already satisfied: requests>=2.11.1 in c:\\users\\amana\\anaconda3\\lib\\site-packages (from tweepy) (2.18.4)\n",
      "Collecting requests-oauthlib>=0.7.0 (from tweepy)\n",
      "  Downloading https://files.pythonhosted.org/packages/77/34/d0957563f20b259a31c12f14e858d79f2e66eb539d3c1b9ab7077ef030ca/requests_oauthlib-0.8.0-py2.py3-none-any.whl\n",
      "Requirement already satisfied: PySocks>=1.5.7 in c:\\users\\amana\\anaconda3\\lib\\site-packages (from tweepy) (1.6.7)\n",
      "Requirement already satisfied: six>=1.10.0 in c:\\users\\amana\\anaconda3\\lib\\site-packages (from tweepy) (1.11.0)\n",
      "Requirement already satisfied: chardet<3.1.0,>=3.0.2 in c:\\users\\amana\\anaconda3\\lib\\site-packages (from requests>=2.11.1->tweepy) (3.0.4)\n",
      "Requirement already satisfied: idna<2.7,>=2.5 in c:\\users\\amana\\anaconda3\\lib\\site-packages (from requests>=2.11.1->tweepy) (2.6)\n",
      "Requirement already satisfied: urllib3<1.23,>=1.21.1 in c:\\users\\amana\\anaconda3\\lib\\site-packages (from requests>=2.11.1->tweepy) (1.22)\n",
      "Requirement already satisfied: certifi>=2017.4.17 in c:\\users\\amana\\anaconda3\\lib\\site-packages (from requests>=2.11.1->tweepy) (2018.1.18)\n",
      "Collecting oauthlib>=0.6.2 (from requests-oauthlib>=0.7.0->tweepy)\n",
      "  Downloading https://files.pythonhosted.org/packages/e0/ac/c6a0c98788aa0d61915190d089e9ebe680905a94261effe3936eb8fe356f/oauthlib-2.0.7-py2.py3-none-any.whl (124kB)\n",
      "Installing collected packages: oauthlib, requests-oauthlib, tweepy\n",
      "Successfully installed oauthlib-2.0.7 requests-oauthlib-0.8.0 tweepy-3.6.0\n"
     ]
    }
   ],
   "source": [
    "!pip install tweepy"
   ]
  },
  {
   "cell_type": "code",
   "execution_count": 2,
   "metadata": {},
   "outputs": [
    {
     "name": "stdout",
     "output_type": "stream",
     "text": [
      "Collecting textblob\n",
      "  Downloading https://files.pythonhosted.org/packages/11/18/7f55c8be6d68ddc4036ffda5382ca51e23a1075987f708b9123712091af1/textblob-0.15.1-py2.py3-none-any.whl (631kB)\n",
      "Requirement already satisfied: nltk>=3.1 in c:\\users\\amana\\anaconda3\\lib\\site-packages (from textblob) (3.2.5)\n",
      "Requirement already satisfied: six in c:\\users\\amana\\anaconda3\\lib\\site-packages (from nltk>=3.1->textblob) (1.11.0)\n",
      "Installing collected packages: textblob\n",
      "Successfully installed textblob-0.15.1\n"
     ]
    }
   ],
   "source": [
    "!pip install textblob"
   ]
  },
  {
   "cell_type": "code",
   "execution_count": 67,
   "metadata": {},
   "outputs": [
    {
     "name": "stdout",
     "output_type": "stream",
     "text": [
      "Elon Musk pitches 150 MPH rides in Boring Company tunnels for $1 - —Sounds good.  But it’s just downtown... https://t.co/ewMT6zy4Cr\n",
      "RT @raaleh: Elon Musk has regressed from 2012 era “good sir you owe me a new keyboard and I will be paid in bacon!”    all the way back to…\n",
      "RT @tictoc: ⚡️ “Here's Elon Musk's $1-a-ride L.A. tunnel system plan”\n",
      "\n",
      "https://t.co/ZLw83dHkAJ\n",
      "Elon Musk's Boring Company reveals exciting ambitions - https://t.co/zFVggPmLMn via https://t.co/PSJJSOLfmD\n",
      "#Tesla, arriva in soccorso il miliardario americano George Soros, con un investimento di 35 miliardi in obbligazion… https://t.co/Tf74kiRRZE\n",
      "RT @tictoc: Elon Musk and the Boring Company's first tunnel under LA is nearing completion. Here's the sneak peek #tictocnews https://t.co/…\n",
      "RT @raaleh: Elon Musk has regressed from 2012 era “good sir you owe me a new keyboard and I will be paid in bacon!”    all the way back to…\n",
      "RT @tictoc: Q: Will you organize a big party before the tunnel launch? \n",
      "A: \"Of course. This would be a trippy place to throw a party,\" says…\n",
      "RT @stnkylizard: The similarities between Mr. Crabs and Elon Musk are uncanny\n",
      "Elon Musk holds rare town hall to address Los Angeles traffic tunnel concerns #LosAngeles #LA #LAX https://t.co/Pay5Gl6pm7\n",
      "Conoce el iPhone X 'Tesla' con batería infinita (Fotos) https://t.co/9y3hL6Q9x4 https://t.co/50qyRJUlUS\n",
      "@themisszozo @BTSxFRARMY @BTS_twt Y'a de la danse et de la \"mise en scène\", je trouve juste la réaction étrange, c'… https://t.co/mw8X1hyEp6\n",
      "Elon Musk is the man.\n",
      "A right Royal beauty! \n",
      "\n",
      "The beautiful aroma of apple, pear, lemon, mandarin and loganberry fused with freesia, wate… https://t.co/mnzXvVrwGj\n",
      "The biggest news from Elon Musk's Boring Company meeting in LA - https://t.co/dWmy2qTRHB via https://t.co/PSJJSOLfmD\n"
     ]
    }
   ],
   "source": [
    "from textblob import TextBlob\n",
    "import tweepy\n",
    "import pandas as pd\n",
    "\n",
    "consumer_key = '6UzaFXNG2453rfc43453fZyWL'\n",
    "consumer_secret = 'h1bxp8cv7Yasv4Lm9serevP6MnlXZHiuX8jBwRfJfooC15L'\n",
    "\n",
    "access_token = '8612665739jhfoig873560826540k1NHRb4dY3KjBQIwfd8Rs0'\n",
    "access_token_secret = 'uE8hPsUayEEhf734987-95483-98xVbDl3o'\n",
    "\n",
    "auth = tweepy.OAuthHandler(consumer_key, consumer_secret)\n",
    "auth.set_access_token(access_token, access_token_secret)\n",
    "\n",
    "api = tweepy.API(auth)\n",
    "\n",
    "public_tweets = api.search('Musk')\n",
    "\n",
    "sentiment_data = []\n",
    "tweets_data = []\n",
    "\n",
    "for tweet in public_tweets:\n",
    "    print(tweet.text)\n",
    "    analysis = TextBlob(tweet.text)\n",
    "    tweets_data.append(analysis)\n",
    "    sentiment = analysis.sentiment\n",
    "    if sentiment[0] > 0 :\n",
    "        sentiment_data.append('Positive')\n",
    "    elif sentiment[0] == 0:\n",
    "        sentiment_data.append('Neutral')\n",
    "    else:\n",
    "        sentiment_data.append('Negative')\n",
    "    "
   ]
  },
  {
   "cell_type": "code",
   "execution_count": 68,
   "metadata": {},
   "outputs": [],
   "source": [
    "data = pd.DataFrame({'Tweets':tweets_data, 'Sentiment':sentiment_data})"
   ]
  },
  {
   "cell_type": "code",
   "execution_count": 69,
   "metadata": {},
   "outputs": [],
   "source": [
    "data.to_csv('Sentiment_Analysis.csv', encoding = 'utf-8', index = False)"
   ]
  },
  {
   "cell_type": "code",
   "execution_count": 70,
   "metadata": {},
   "outputs": [
    {
     "data": {
      "text/html": [
       "<div>\n",
       "<style scoped>\n",
       "    .dataframe tbody tr th:only-of-type {\n",
       "        vertical-align: middle;\n",
       "    }\n",
       "\n",
       "    .dataframe tbody tr th {\n",
       "        vertical-align: top;\n",
       "    }\n",
       "\n",
       "    .dataframe thead th {\n",
       "        text-align: right;\n",
       "    }\n",
       "</style>\n",
       "<table border=\"1\" class=\"dataframe\">\n",
       "  <thead>\n",
       "    <tr style=\"text-align: right;\">\n",
       "      <th></th>\n",
       "      <th>Sentiment</th>\n",
       "      <th>Tweets</th>\n",
       "    </tr>\n",
       "  </thead>\n",
       "  <tbody>\n",
       "    <tr>\n",
       "      <th>0</th>\n",
       "      <td>Negative</td>\n",
       "      <td>(E, l, o, n,  , M, u, s, k,  , p, i, t, c, h, ...</td>\n",
       "    </tr>\n",
       "    <tr>\n",
       "      <th>1</th>\n",
       "      <td>Positive</td>\n",
       "      <td>(R, T,  , @, r, a, a, l, e, h, :,  , E, l, o, ...</td>\n",
       "    </tr>\n",
       "    <tr>\n",
       "      <th>2</th>\n",
       "      <td>Neutral</td>\n",
       "      <td>(R, T,  , @, t, i, c, t, o, c, :,  , ⚡, ️,  , ...</td>\n",
       "    </tr>\n",
       "    <tr>\n",
       "      <th>3</th>\n",
       "      <td>Negative</td>\n",
       "      <td>(E, l, o, n,  , M, u, s, k, ', s,  , B, o, r, ...</td>\n",
       "    </tr>\n",
       "    <tr>\n",
       "      <th>4</th>\n",
       "      <td>Neutral</td>\n",
       "      <td>(#, T, e, s, l, a, ,,  , a, r, r, i, v, a,  , ...</td>\n",
       "    </tr>\n",
       "    <tr>\n",
       "      <th>5</th>\n",
       "      <td>Negative</td>\n",
       "      <td>(R, T,  , @, t, i, c, t, o, c, :,  , E, l, o, ...</td>\n",
       "    </tr>\n",
       "    <tr>\n",
       "      <th>6</th>\n",
       "      <td>Positive</td>\n",
       "      <td>(R, T,  , @, r, a, a, l, e, h, :,  , E, l, o, ...</td>\n",
       "    </tr>\n",
       "    <tr>\n",
       "      <th>7</th>\n",
       "      <td>Neutral</td>\n",
       "      <td>(R, T,  , @, t, i, c, t, o, c, :,  , Q, :,  , ...</td>\n",
       "    </tr>\n",
       "    <tr>\n",
       "      <th>8</th>\n",
       "      <td>Neutral</td>\n",
       "      <td>(R, T,  , @, s, t, n, k, y, l, i, z, a, r, d, ...</td>\n",
       "    </tr>\n",
       "    <tr>\n",
       "      <th>9</th>\n",
       "      <td>Positive</td>\n",
       "      <td>(E, l, o, n,  , M, u, s, k,  , h, o, l, d, s, ...</td>\n",
       "    </tr>\n",
       "    <tr>\n",
       "      <th>10</th>\n",
       "      <td>Neutral</td>\n",
       "      <td>(C, o, n, o, c, e,  , e, l,  , i, P, h, o, n, ...</td>\n",
       "    </tr>\n",
       "    <tr>\n",
       "      <th>11</th>\n",
       "      <td>Neutral</td>\n",
       "      <td>(@, t, h, e, m, i, s, s, z, o, z, o,  , @, B, ...</td>\n",
       "    </tr>\n",
       "    <tr>\n",
       "      <th>12</th>\n",
       "      <td>Neutral</td>\n",
       "      <td>(E, l, o, n,  , M, u, s, k,  , i, s,  , t, h, ...</td>\n",
       "    </tr>\n",
       "    <tr>\n",
       "      <th>13</th>\n",
       "      <td>Positive</td>\n",
       "      <td>(A,  , r, i, g, h, t,  , R, o, y, a, l,  , b, ...</td>\n",
       "    </tr>\n",
       "    <tr>\n",
       "      <th>14</th>\n",
       "      <td>Negative</td>\n",
       "      <td>(T, h, e,  , b, i, g, g, e, s, t,  , n, e, w, ...</td>\n",
       "    </tr>\n",
       "  </tbody>\n",
       "</table>\n",
       "</div>"
      ],
      "text/plain": [
       "   Sentiment                                             Tweets\n",
       "0   Negative  (E, l, o, n,  , M, u, s, k,  , p, i, t, c, h, ...\n",
       "1   Positive  (R, T,  , @, r, a, a, l, e, h, :,  , E, l, o, ...\n",
       "2    Neutral  (R, T,  , @, t, i, c, t, o, c, :,  , ⚡, ️,  , ...\n",
       "3   Negative  (E, l, o, n,  , M, u, s, k, ', s,  , B, o, r, ...\n",
       "4    Neutral  (#, T, e, s, l, a, ,,  , a, r, r, i, v, a,  , ...\n",
       "5   Negative  (R, T,  , @, t, i, c, t, o, c, :,  , E, l, o, ...\n",
       "6   Positive  (R, T,  , @, r, a, a, l, e, h, :,  , E, l, o, ...\n",
       "7    Neutral  (R, T,  , @, t, i, c, t, o, c, :,  , Q, :,  , ...\n",
       "8    Neutral  (R, T,  , @, s, t, n, k, y, l, i, z, a, r, d, ...\n",
       "9   Positive  (E, l, o, n,  , M, u, s, k,  , h, o, l, d, s, ...\n",
       "10   Neutral  (C, o, n, o, c, e,  , e, l,  , i, P, h, o, n, ...\n",
       "11   Neutral  (@, t, h, e, m, i, s, s, z, o, z, o,  , @, B, ...\n",
       "12   Neutral  (E, l, o, n,  , M, u, s, k,  , i, s,  , t, h, ...\n",
       "13  Positive  (A,  , r, i, g, h, t,  , R, o, y, a, l,  , b, ...\n",
       "14  Negative  (T, h, e,  , b, i, g, g, e, s, t,  , n, e, w, ..."
      ]
     },
     "execution_count": 70,
     "metadata": {},
     "output_type": "execute_result"
    }
   ],
   "source": [
    "data"
   ]
  },
  {
   "cell_type": "code",
   "execution_count": null,
   "metadata": {},
   "outputs": [],
   "source": []
  }
 ],
 "metadata": {
  "kernelspec": {
   "display_name": "Python 3",
   "language": "python",
   "name": "python3"
  },
  "language_info": {
   "codemirror_mode": {
    "name": "ipython",
    "version": 3
   },
   "file_extension": ".py",
   "mimetype": "text/x-python",
   "name": "python",
   "nbconvert_exporter": "python",
   "pygments_lexer": "ipython3",
   "version": "3.6.4"
  }
 },
 "nbformat": 4,
 "nbformat_minor": 2
}
